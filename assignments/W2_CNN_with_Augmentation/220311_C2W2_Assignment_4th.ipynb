{
  "cells": [
    {
      "cell_type": "markdown",
      "metadata": {
        "id": "AuW-xg_bTsaF"
      },
      "source": [
        "# Week 2: Tackle Overfitting with Data Augmentation\n",
        "\n",
        "Welcome to this assignment! As in the previous week, you will be using the famous `cats vs dogs` dataset to train a model that can classify images of dogs from images of cats. For this, you will create your own Convolutional Neural Network in Tensorflow and leverage Keras' image preprocessing utilities, more so this time around since Keras provides excellent support for augmenting image data.\n",
        "\n",
        "You will also need to create the helper functions to move the images around the filesystem as you did last week, so if you need to refresh your memory with the `os` module be sure to take a look a the [docs](https://docs.python.org/3/library/os.html).\n",
        "\n",
        "Let's get started!"
        "-- I my model cannot predict properly with validation dataset, I don't know why at this point."
      ]
    },
    {
      "cell_type": "code",
      "execution_count": 1,
      "metadata": {
        "id": "dn-6c02VmqiN"
      },
      "outputs": [],
      "source": [
        "import os\n",
        "import zipfile\n",
        "import random\n",
        "import shutil\n",
        "import tensorflow as tf\n",
        "from tensorflow.keras.preprocessing.image import ImageDataGenerator\n",
        "from shutil import copyfile\n",
        "import matplotlib.pyplot as plt"
      ]
    },
    {
      "cell_type": "markdown",
      "metadata": {
        "id": "bLTQd84RUs1j"
      },
      "source": [
        "Download the dataset from its original source by running the cell below. \n",
        "\n",
        "Note that the `zip` file that contains the images is unzipped under the `/tmp` directory."
      ]
    },
    {
      "cell_type": "code",
      "execution_count": 2,
      "metadata": {
        "id": "3sd9dQWa23aj",
        "lines_to_next_cell": 2,
        "colab": {
          "base_uri": "https://localhost:8080/"
        },
        "outputId": "a7439674-a1b9-406b-844f-78338885f983"
      },
      "outputs": [
        {
          "output_type": "stream",
          "name": "stdout",
          "text": [
            "--2022-03-11 14:41:40--  https://download.microsoft.com/download/3/E/1/3E1C3F21-ECDB-4869-8368-6DEBA77B919F/kagglecatsanddogs_3367a.zip\n",
            "Resolving download.microsoft.com (download.microsoft.com)... 23.220.192.143, 2600:1417:e800:181::e59, 2600:1417:e800:180::e59\n",
            "Connecting to download.microsoft.com (download.microsoft.com)|23.220.192.143|:443... connected.\n",
            "HTTP request sent, awaiting response... 200 OK\n",
            "Length: 824894548 (787M) [application/octet-stream]\n",
            "Saving to: ‘/tmp/cats-and-dogs.zip’\n",
            "\n",
            "/tmp/cats-and-dogs. 100%[===================>] 786.68M   183MB/s    in 4.4s    \n",
            "\n",
            "2022-03-11 14:41:44 (179 MB/s) - ‘/tmp/cats-and-dogs.zip’ saved [824894548/824894548]\n",
            "\n"
          ]
        }
      ],
      "source": [
        "# If the URL doesn't work, visit https://www.microsoft.com/en-us/download/confirmation.aspx?id=54765\n",
        "# And right click on the 'Download Manually' link to get a new URL to the dataset\n",
        "\n",
        "# Note: This is a very large dataset and will take some time to download\n",
        "\n",
        "!wget --no-check-certificate \\\n",
        "    \"https://download.microsoft.com/download/3/E/1/3E1C3F21-ECDB-4869-8368-6DEBA77B919F/kagglecatsanddogs_3367a.zip\" \\\n",
        "    -O \"/tmp/cats-and-dogs.zip\"\n",
        "\n",
        "local_zip = '/tmp/cats-and-dogs.zip'\n",
        "zip_ref   = zipfile.ZipFile(local_zip, 'r')\n",
        "zip_ref.extractall('/tmp')\n",
        "zip_ref.close()"
      ]
    },
    {
      "cell_type": "markdown",
      "metadata": {
        "id": "e_HsUV9WVJHL"
      },
      "source": [
        "Now the images are stored within the `/tmp/PetImages` directory. There is a subdirectory for each class, so one for dogs and one for cats."
      ]
    },
    {
      "cell_type": "code",
      "execution_count": 3,
      "metadata": {
        "id": "DM851ZmN28J3",
        "colab": {
          "base_uri": "https://localhost:8080/"
        },
        "outputId": "c4357191-479c-4509-f00e-bb64be86f46d"
      },
      "outputs": [
        {
          "output_type": "stream",
          "name": "stdout",
          "text": [
            "There are 12501 images of dogs.\n",
            "There are 12501 images of cats.\n"
          ]
        }
      ],
      "source": [
        "source_path = '/tmp/PetImages'\n",
        "\n",
        "source_path_dogs = os.path.join(source_path, 'Dog')\n",
        "source_path_cats = os.path.join(source_path, 'Cat')\n",
        "\n",
        "\n",
        "# os.listdir returns a list containing all files under the given path\n",
        "print(f\"There are {len(os.listdir(source_path_dogs))} images of dogs.\")\n",
        "print(f\"There are {len(os.listdir(source_path_cats))} images of cats.\")"
      ]
    },
    {
      "cell_type": "markdown",
      "metadata": {
        "id": "G7dI86rmRGmC"
      },
      "source": [
        "**Expected Output:**\n",
        "\n",
        "```\n",
        "There are 12501 images of dogs.\n",
        "There are 12501 images of cats.\n",
        "```"
      ]
    },
    {
      "cell_type": "markdown",
      "metadata": {
        "id": "iFbMliudNIjW"
      },
      "source": [
        "You will need a directory for cats-v-dogs, and subdirectories for training\n",
        "and testing. These in turn will need subdirectories for 'cats' and 'dogs'. To accomplish this, complete the `create_train_test_dirs` below:"
      ]
    },
    {
      "cell_type": "code",
      "execution_count": 4,
      "metadata": {
        "cellView": "code",
        "id": "F-QkLjxpmyK2"
      },
      "outputs": [],
      "source": [
        "# Define root directory\n",
        "root_dir = '/tmp/cats-v-dogs'\n",
        "\n",
        "# Empty directory to prevent FileExistsError is the function is run several times\n",
        "if os.path.exists(root_dir):\n",
        "  shutil.rmtree(root_dir)\n",
        "\n",
        "# GRADED FUNCTION: create_train_test_dirs\n",
        "def create_train_test_dirs(root_path):\n",
        "  ### START CODE HERE\n",
        "  os.mkdir('/tmp/cats-v-dogs')\n",
        "  os.mkdir('/tmp/cats-v-dogs/training')\n",
        "  os.mkdir('/tmp/cats-v-dogs/testing')\n",
        "  os.mkdir('/tmp/cats-v-dogs/training/cats')\n",
        "  os.mkdir('/tmp/cats-v-dogs/training/dogs')\n",
        "  os.mkdir('/tmp/cats-v-dogs/testing/cats')\n",
        "  os.mkdir('/tmp/cats-v-dogs/testing/dogs')\n",
        "\n",
        "  # HINT:\n",
        "  # Use os.makedirs to create your directories with intermediate subdirectories\n",
        "  # Don't hardcode the paths. Use os.path.join to append the new directories to the root_path parameter\n",
        "\n",
        "  pass\n",
        "  \n",
        "  ### END CODE HERE\n",
        "\n",
        "  \n",
        "try:\n",
        "  create_train_test_dirs(root_path=root_dir)\n",
        "except FileExistsError:\n",
        "  print(\"You should not be seeing this since the upper directory is removed beforehand\")"
      ]
    },
    {
      "cell_type": "code",
      "execution_count": 5,
      "metadata": {
        "id": "5dhtL344OK00",
        "colab": {
          "base_uri": "https://localhost:8080/"
        },
        "outputId": "35a6bd19-f265-49d9-938a-5442fdbdd3fd"
      },
      "outputs": [
        {
          "output_type": "stream",
          "name": "stdout",
          "text": [
            "/tmp/cats-v-dogs/testing\n",
            "/tmp/cats-v-dogs/training\n",
            "/tmp/cats-v-dogs/testing/cats\n",
            "/tmp/cats-v-dogs/testing/dogs\n",
            "/tmp/cats-v-dogs/training/cats\n",
            "/tmp/cats-v-dogs/training/dogs\n"
          ]
        }
      ],
      "source": [
        "# Test your create_train_test_dirs function\n",
        "\n",
        "for rootdir, dirs, files in os.walk(root_dir):\n",
        "    for subdir in dirs:\n",
        "        print(os.path.join(rootdir, subdir))"
      ]
    },
    {
      "cell_type": "markdown",
      "metadata": {
        "id": "D7A0RK3IQsvg"
      },
      "source": [
        "**Expected Output (directory order might vary):**\n",
        "\n",
        "``` txt\n",
        "/tmp/cats-v-dogs/training\n",
        "/tmp/cats-v-dogs/testing\n",
        "/tmp/cats-v-dogs/training/cats\n",
        "/tmp/cats-v-dogs/training/dogs\n",
        "/tmp/cats-v-dogs/testing/cats\n",
        "/tmp/cats-v-dogs/testing/dogs\n",
        "\n",
        "```"
      ]
    },
    {
      "cell_type": "markdown",
      "metadata": {
        "id": "R93T7HdE5txZ"
      },
      "source": [
        "Code the `split_data` function which takes in the following arguments:\n",
        "- SOURCE: directory containing the files\n",
        "\n",
        "- TRAINING: directory that a portion of the files will be copied to (will be used for training)\n",
        "- TESTING: directory that a portion of the files will be copied to (will be used for testing)\n",
        "- SPLIT SIZE: to determine the portion\n",
        "\n",
        "The files should be randomized, so that the training set is a random sample of the files, and the test set is made up of the remaining files.\n",
        "\n",
        "For example, if `SOURCE` is `PetImages/Cat`, and `SPLIT` SIZE is .9 then 90% of the images in `PetImages/Cat` will be copied to the `TRAINING` dir\n",
        "and 10% of the images will be copied to the `TESTING` dir.\n",
        "\n",
        "All images should be checked before the copy, so if they have a zero file length, they will be omitted from the copying process. If this is the case then your function should print out a message such as `\"filename is zero length, so ignoring.\"`. **You should perform this check before the split so that only non-zero images are considered when doing the actual split.**\n",
        "\n",
        "\n",
        "Hints:\n",
        "\n",
        "- `os.listdir(DIRECTORY)` returns a list with the contents of that directory.\n",
        "\n",
        "- `os.path.getsize(PATH)` returns the size of the file\n",
        "\n",
        "- `copyfile(source, destination)` copies a file from source to destination\n",
        "\n",
        "- `random.sample(list, len(list))` shuffles a list"
      ]
    },
    {
      "cell_type": "code",
      "execution_count": 7,
      "metadata": {
        "cellView": "code",
        "id": "zvSODo0f9LaU"
      },
      "outputs": [],
      "source": [
        "# GRADED FUNCTION: split_data\n",
        "def split_data(SOURCE, TRAINING, TESTING, SPLIT_SIZE):\n",
        "\n",
        "  ### START CODE HERE\n",
        "  dataset = []\n",
        "    \n",
        "  for unitData in os.listdir(SOURCE):\n",
        "       data = SOURCE + unitData\n",
        "       if (os.path.getsize(data) > 0):\n",
        "          dataset.append(unitData)\n",
        "       else:\n",
        "            print('Skipped ' + unitData)\n",
        "            print('Invalid file size! i.e Zero length.')\n",
        "    \n",
        "  train_data_length = int(len(dataset) * SPLIT_SIZE)\n",
        "  test_data_length = int(len(dataset) - train_data_length)\n",
        "  shuffled_set = random.sample(dataset, len(dataset))\n",
        "  train_set = shuffled_set[0:train_data_length]\n",
        "  test_set = shuffled_set[-test_data_length:]\n",
        "    \n",
        "  for unitData in train_set:\n",
        "       temp_train_data = SOURCE + unitData\n",
        "       final_train_data = TRAINING + unitData\n",
        "       copyfile(temp_train_data, final_train_data)\n",
        "     \n",
        "  for unitData in test_set:\n",
        "        temp_test_data = SOURCE + unitData\n",
        "        final_test_data = TESTING + unitData\n",
        "        copyfile(temp_train_data, final_test_data)\n",
        "\n",
        "  pass\n",
        "\n",
        "  ### END CODE HERE\n",
        "\n"
      ]
    },
    {
      "cell_type": "code",
      "execution_count": 8,
      "metadata": {
        "id": "FlIdoUeX9S-9",
        "colab": {
          "base_uri": "https://localhost:8080/"
        },
        "outputId": "849729c7-dcb0-4082-a8e3-07440322dbab"
      },
      "outputs": [
        {
          "output_type": "stream",
          "name": "stdout",
          "text": [
            "Skipped 666.jpg\n",
            "Invalid file size! i.e Zero length.\n",
            "Skipped 11702.jpg\n",
            "Invalid file size! i.e Zero length.\n",
            "\n",
            "\n",
            "There are 11250 images of cats for training\n",
            "There are 11250 images of dogs for training\n",
            "There are 1250 images of cats for testing\n",
            "There are 1250 images of dogs for testing\n"
          ]
        }
      ],
      "source": [
        "# Test your split_data function\n",
        "\n",
        "# Define paths\n",
        "CAT_SOURCE_DIR = \"/tmp/PetImages/Cat/\"\n",
        "DOG_SOURCE_DIR = \"/tmp/PetImages/Dog/\"\n",
        "\n",
        "TRAINING_DIR = \"/tmp/cats-v-dogs/training/\"\n",
        "TESTING_DIR = \"/tmp/cats-v-dogs/testing/\"\n",
        "\n",
        "TRAINING_CATS_DIR = os.path.join(TRAINING_DIR, \"cats/\")\n",
        "TESTING_CATS_DIR = os.path.join(TESTING_DIR, \"cats/\")\n",
        "\n",
        "TRAINING_DOGS_DIR = os.path.join(TRAINING_DIR, \"dogs/\")\n",
        "TESTING_DOGS_DIR = os.path.join(TESTING_DIR, \"dogs/\")\n",
        "\n",
        "# Empty directories in case you run this cell multiple times\n",
        "if len(os.listdir(TRAINING_CATS_DIR)) > 0:\n",
        "  for file in os.scandir(TRAINING_CATS_DIR):\n",
        "    os.remove(file.path)\n",
        "if len(os.listdir(TRAINING_DOGS_DIR)) > 0:\n",
        "  for file in os.scandir(TRAINING_DOGS_DIR):\n",
        "    os.remove(file.path)\n",
        "if len(os.listdir(TESTING_CATS_DIR)) > 0:\n",
        "  for file in os.scandir(TESTING_CATS_DIR):\n",
        "    os.remove(file.path)\n",
        "if len(os.listdir(TESTING_DOGS_DIR)) > 0:\n",
        "  for file in os.scandir(TESTING_DOGS_DIR):\n",
        "    os.remove(file.path)\n",
        "\n",
        "# Define proportion of images used for training\n",
        "split_size = .9\n",
        "\n",
        "# Run the function\n",
        "# NOTE: Messages about zero length images should be printed out\n",
        "split_data(CAT_SOURCE_DIR, TRAINING_CATS_DIR, TESTING_CATS_DIR, split_size)\n",
        "split_data(DOG_SOURCE_DIR, TRAINING_DOGS_DIR, TESTING_DOGS_DIR, split_size)\n",
        "\n",
        "# Check that the number of images matches the expected output\n",
        "print(f\"\\n\\nThere are {len(os.listdir(TRAINING_CATS_DIR))} images of cats for training\")\n",
        "print(f\"There are {len(os.listdir(TRAINING_DOGS_DIR))} images of dogs for training\")\n",
        "print(f\"There are {len(os.listdir(TESTING_CATS_DIR))} images of cats for testing\")\n",
        "print(f\"There are {len(os.listdir(TESTING_DOGS_DIR))} images of dogs for testing\")"
      ]
    },
    {
      "cell_type": "markdown",
      "metadata": {
        "id": "hvskJNOFVSaz"
      },
      "source": [
        "**Expected Output:**\n",
        "\n",
        "```\n",
        "666.jpg is zero length, so ignoring.\n",
        "11702.jpg is zero length, so ignoring.\n",
        "```\n",
        "\n",
        "```\n",
        "There are 11250 images of cats for training\n",
        "There are 11250 images of dogs for training\n",
        "There are 1250 images of cats for testing\n",
        "There are 1250 images of dogs for testing\n",
        "```"
      ]
    },
    {
      "cell_type": "markdown",
      "metadata": {
        "id": "Zil4QmOD_mXF"
      },
      "source": [
        "Now that you have successfully organized the data in a way that can be easily fed to Keras' `ImageDataGenerator`, it is time for you to code the generators that will yield batches of images, both for training and validation. For this, complete the `train_val_generators` function below.\n",
        "\n",
        "Something important to note is that the images in this dataset come in a variety of resolutions. Luckily, the `flow_from_directory` method allows you to standarize this by defining a tuple called `target_size` that will be used to convert each image to this target resolution. **For this exercise use a `target_size` of (150, 150)**.\n",
        "\n",
        "**Note:** So far, you have seen the term `testing` being used a lot for referring to a subset of images within the dataset. In this exercise, all of the `testing` data is actually being used as `validation` data. This is not very important within the context of the task at hand but it is worth mentioning to avoid confusion."
      ]
    },
    {
      "cell_type": "code",
      "execution_count": 9,
      "metadata": {
        "cellView": "code",
        "id": "fQrZfVgz4j2g"
      },
      "outputs": [],
      "source": [
        "# GRADED FUNCTION: train_val_generators\n",
        "def train_val_generators(TRAINING_DIR, VALIDATION_DIR):\n",
        "  ### START CODE HERE\n",
        "  TRAINING_DIR = \"/tmp/cats-v-dogs/training/\"\n",
        "  TESTING_DIR = \"/tmp/cats-v-dogs/testing/\"\n",
        "  # Instantiate the ImageDataGenerator class (don't forget to set the arguments to augment the images)\n",
        "  train_datagen = ImageDataGenerator(rescale=1.0/255,\n",
        "                                     rotation_range=40,\n",
        "                                     width_shift_range=0.2,\n",
        "                                     height_shift_range=0.2,\n",
        "                                     shear_range=0.2,\n",
        "                                     zoom_range=0.2,\n",
        "                                     horizontal_flip=True,\n",
        "                                     fill_mode='nearest')\n",
        "\n",
        "  # Pass in the appropriate arguments to the flow_from_directory method\n",
        "  train_generator = train_datagen.flow_from_directory(directory=TRAINING_DIR,\n",
        "                                                      batch_size=100,\n",
        "                                                      class_mode='binary',\n",
        "                                                      target_size=(150, 150))\n",
        "\n",
        "  # Instantiate the ImageDataGenerator class (don't forget to set the rescale argument)\n",
        "  validation_datagen = ImageDataGenerator(rescale=1.0/255)\n",
        "\n",
        "  # Pass in the appropriate arguments to the flow_from_directory method\n",
        "  validation_generator = validation_datagen.flow_from_directory(directory=TESTING_DIR,\n",
        "                                                                batch_size=100,\n",
        "                                                                class_mode='binary',\n",
        "                                                                target_size=(150, 150))\n",
        "  ### END CODE HERE\n",
        "  return train_generator, validation_generator\n"
      ]
    },
    {
      "cell_type": "code",
      "execution_count": 10,
      "metadata": {
        "id": "qM7FxrjGiobD",
        "colab": {
          "base_uri": "https://localhost:8080/"
        },
        "outputId": "3e4b450a-9750-4754-a880-7b6123003cf4"
      },
      "outputs": [
        {
          "output_type": "stream",
          "name": "stdout",
          "text": [
            "Found 22498 images belonging to 2 classes.\n",
            "Found 2500 images belonging to 2 classes.\n"
          ]
        }
      ],
      "source": [
        "# Test your generators\n",
        "train_generator, validation_generator = train_val_generators(TRAINING_DIR, TESTING_DIR)"
      ]
    },
    {
      "cell_type": "code",
      "source": [
        "from tensorflow.keras.optimizers import RMSprop"
      ],
      "metadata": {
        "id": "AI55ujfVxQ1q"
      },
      "execution_count": 11,
      "outputs": []
    },
    {
      "cell_type": "markdown",
      "metadata": {
        "id": "tiPNmSfZjHwJ"
      },
      "source": [
        "**Expected Output:**\n",
        "\n",
        "```\n",
        "Found 22498 images belonging to 2 classes.\n",
        "Found 2500 images belonging to 2 classes.\n",
        "```\n"
      ]
    },
    {
      "cell_type": "markdown",
      "metadata": {
        "id": "TI3oEmyQCZoO"
      },
      "source": [
        "One last step before training is to define the architecture of the model that will be trained.\n",
        "\n",
        "Complete the `create_model` function below which should return a Keras' `Sequential` model.\n",
        "\n",
        "Aside from defining the architecture of the model, you should also compile it so make sure to use a `loss` function that is compatible with the `class_mode` you defined in the previous exercise, which should also be compatible with the output of your network. You can tell if they aren't compatible if you get an error during training.\n",
        "\n",
        "**Note that you should use at least 3 convolution layers to achieve the desired performance.**"
      ]
    },
    {
      "cell_type": "code",
      "execution_count": 12,
      "metadata": {
        "cellView": "code",
        "id": "oDPK8tUB_O9e",
        "lines_to_next_cell": 2
      },
      "outputs": [],
      "source": [
        "# GRADED FUNCTION: create_model\n",
        "def create_model():\n",
        "  # DEFINE A KERAS MODEL TO CLASSIFY CATS V DOGS\n",
        "  # USE AT LEAST 3 CONVOLUTION LAYERS\n",
        "\n",
        "  ### START CODE HERE\n",
        "  model = tf.keras.models.Sequential([ \n",
        "  tf.keras.layers.Conv2D(16,(3,3), activation = 'relu', input_shape=(150,150,3)),\n",
        "  tf.keras.layers.MaxPooling2D(2,2),\n",
        "  tf.keras.layers.Conv2D(32,(3,3), activation = 'relu'),\n",
        "  tf.keras.layers.MaxPooling2D(2,2),\n",
        "  tf.keras.layers.Conv2D(64,(3,3), activation = 'relu'),\n",
        "  tf.keras.layers.MaxPooling2D(2,2),\n",
        "  tf.keras.layers.Conv2D(128,(3,3), activation = 'relu'),\n",
        "  tf.keras.layers.MaxPooling2D(2,2),\n",
        "  tf.keras.layers.Flatten(),\n",
        "  tf.keras.layers.Dense(512, activation = 'relu'),\n",
        "  tf.keras.layers.Dense(1, activation='sigmoid')\n",
        "  ])\n",
        "\n",
        "   \n",
        "  model.compile(optimizer=RMSprop(lr=0.001),\n",
        "                loss='binary_crossentropy',\n",
        "                metrics=['accuracy']) \n",
        "\n",
        "  return model\n"
      ]
    },
    {
      "cell_type": "markdown",
      "metadata": {
        "id": "SMFNJZmTCZv6"
      },
      "source": [
        "Now it is time to train your model!\n",
        "\n",
        "Note: You can ignore the `UserWarning: Possibly corrupt EXIF data.` warnings."
      ]
    },
    {
      "cell_type": "code",
      "execution_count": 13,
      "metadata": {
        "id": "5qE1G6JB4fMn",
        "colab": {
          "base_uri": "https://localhost:8080/"
        },
        "outputId": "3b614ecc-7a52-41b1-c1ba-135793750e1f"
      },
      "outputs": [
        {
          "output_type": "stream",
          "name": "stderr",
          "text": [
            "/usr/local/lib/python3.7/dist-packages/keras/optimizer_v2/rmsprop.py:130: UserWarning: The `lr` argument is deprecated, use `learning_rate` instead.\n",
            "  super(RMSprop, self).__init__(name, **kwargs)\n"
          ]
        },
        {
          "output_type": "stream",
          "name": "stdout",
          "text": [
            "Epoch 1/15\n",
            "131/131 [==============================] - 128s 885ms/step - loss: 0.7048 - accuracy: 0.5564 - val_loss: 0.6754 - val_accuracy: 1.0000\n",
            "Epoch 2/15\n",
            "131/131 [==============================] - 115s 881ms/step - loss: 0.6529 - accuracy: 0.6254 - val_loss: 0.7466 - val_accuracy: 0.5000\n",
            "Epoch 3/15\n",
            " 75/131 [================>.............] - ETA: 47s - loss: 0.6304 - accuracy: 0.6532"
          ]
        },
        {
          "output_type": "stream",
          "name": "stderr",
          "text": [
            "/usr/local/lib/python3.7/dist-packages/PIL/TiffImagePlugin.py:770: UserWarning: Possibly corrupt EXIF data.  Expecting to read 32 bytes but only got 0. Skipping tag 270\n",
            "  \" Skipping tag %s\" % (size, len(data), tag)\n",
            "/usr/local/lib/python3.7/dist-packages/PIL/TiffImagePlugin.py:770: UserWarning: Possibly corrupt EXIF data.  Expecting to read 5 bytes but only got 0. Skipping tag 271\n",
            "  \" Skipping tag %s\" % (size, len(data), tag)\n",
            "/usr/local/lib/python3.7/dist-packages/PIL/TiffImagePlugin.py:770: UserWarning: Possibly corrupt EXIF data.  Expecting to read 8 bytes but only got 0. Skipping tag 272\n",
            "  \" Skipping tag %s\" % (size, len(data), tag)\n",
            "/usr/local/lib/python3.7/dist-packages/PIL/TiffImagePlugin.py:770: UserWarning: Possibly corrupt EXIF data.  Expecting to read 8 bytes but only got 0. Skipping tag 282\n",
            "  \" Skipping tag %s\" % (size, len(data), tag)\n",
            "/usr/local/lib/python3.7/dist-packages/PIL/TiffImagePlugin.py:770: UserWarning: Possibly corrupt EXIF data.  Expecting to read 8 bytes but only got 0. Skipping tag 283\n",
            "  \" Skipping tag %s\" % (size, len(data), tag)\n",
            "/usr/local/lib/python3.7/dist-packages/PIL/TiffImagePlugin.py:770: UserWarning: Possibly corrupt EXIF data.  Expecting to read 20 bytes but only got 0. Skipping tag 306\n",
            "  \" Skipping tag %s\" % (size, len(data), tag)\n",
            "/usr/local/lib/python3.7/dist-packages/PIL/TiffImagePlugin.py:770: UserWarning: Possibly corrupt EXIF data.  Expecting to read 48 bytes but only got 0. Skipping tag 532\n",
            "  \" Skipping tag %s\" % (size, len(data), tag)\n",
            "/usr/local/lib/python3.7/dist-packages/PIL/TiffImagePlugin.py:788: UserWarning: Corrupt EXIF data.  Expecting to read 2 bytes but only got 0. \n",
            "  warnings.warn(str(msg))\n"
          ]
        },
        {
          "output_type": "stream",
          "name": "stdout",
          "text": [
            "131/131 [==============================] - 118s 901ms/step - loss: 0.6277 - accuracy: 0.6523 - val_loss: 0.8615 - val_accuracy: 0.5000\n",
            "Epoch 4/15\n",
            "131/131 [==============================] - 116s 882ms/step - loss: 0.5983 - accuracy: 0.6751 - val_loss: 1.1837 - val_accuracy: 0.5000\n",
            "Epoch 5/15\n",
            "131/131 [==============================] - 117s 895ms/step - loss: 0.5848 - accuracy: 0.6929 - val_loss: 0.9158 - val_accuracy: 0.5000\n",
            "Epoch 6/15\n",
            "131/131 [==============================] - 116s 886ms/step - loss: 0.5704 - accuracy: 0.7025 - val_loss: 0.9152 - val_accuracy: 0.5000\n",
            "Epoch 7/15\n",
            "131/131 [==============================] - 116s 889ms/step - loss: 0.5504 - accuracy: 0.7178 - val_loss: 0.6603 - val_accuracy: 0.5000\n",
            "Epoch 8/15\n",
            "131/131 [==============================] - 116s 886ms/step - loss: 0.5430 - accuracy: 0.7244 - val_loss: 1.0301 - val_accuracy: 0.5000\n",
            "Epoch 9/15\n",
            "131/131 [==============================] - 118s 898ms/step - loss: 0.5222 - accuracy: 0.7421 - val_loss: 0.8160 - val_accuracy: 0.5000\n",
            "Epoch 10/15\n",
            "131/131 [==============================] - 116s 887ms/step - loss: 0.5134 - accuracy: 0.7445 - val_loss: 0.9535 - val_accuracy: 0.0000e+00\n",
            "Epoch 11/15\n",
            "131/131 [==============================] - 116s 885ms/step - loss: 0.4980 - accuracy: 0.7583 - val_loss: 0.8387 - val_accuracy: 0.0000e+00\n",
            "Epoch 12/15\n",
            "131/131 [==============================] - 115s 880ms/step - loss: 0.4925 - accuracy: 0.7621 - val_loss: 0.9123 - val_accuracy: 0.5000\n",
            "Epoch 13/15\n",
            "131/131 [==============================] - 118s 898ms/step - loss: 0.4797 - accuracy: 0.7696 - val_loss: 0.6784 - val_accuracy: 0.5000\n",
            "Epoch 14/15\n",
            "131/131 [==============================] - 118s 899ms/step - loss: 0.4720 - accuracy: 0.7731 - val_loss: 0.5509 - val_accuracy: 1.0000\n",
            "Epoch 15/15\n",
            "131/131 [==============================] - 118s 898ms/step - loss: 0.4501 - accuracy: 0.7913 - val_loss: 0.6130 - val_accuracy: 1.0000\n"
          ]
        }
      ],
      "source": [
        "# Get the untrained model\n",
        "model = create_model()\n",
        "\n",
        "# Train the model\n",
        "# Note that this may take some time.\n",
        "history = model.fit(train_generator,\n",
        "                    epochs=15,\n",
        "                    verbose=1,\n",
        "                    steps_per_epoch=131,\n",
        "                    validation_steps=25,\n",
        "                    validation_data=validation_generator)"
      ]
    },
    {
      "cell_type": "markdown",
      "metadata": {
        "id": "VGsaDMc-GMd4"
      },
      "source": [
        "Once training has finished, you can run the following cell to check the training and validation accuracy achieved at the end of each epoch.\n",
        "\n",
        "**To pass this assignment, your model should achieve a training and validation accuracy of at least 80% and the final testing accuracy should be either higher than the training one or have a 5% difference at maximum**. If your model didn't achieve these thresholds, try training again with a different model architecture, remember to use at least 3 convolutional layers or try tweaking the image augmentation process.\n",
        "\n",
        "You might wonder why the training threshold to pass this assignment is significantly lower compared to last week's assignment. Image augmentation does help with overfitting but usually this comes at the expense of requiring more training time. To keep the training time reasonable, the same number of epochs as in the previous assignment are kept. \n",
        "\n",
        "However, as an optional exercise you are encouraged to try training for more epochs and to achieve really good training and validation accuracies."
      ]
    },
    {
      "cell_type": "code",
      "execution_count": 14,
      "metadata": {
        "id": "MWZrJN4-65RC",
        "colab": {
          "base_uri": "https://localhost:8080/",
          "height": 547
        },
        "outputId": "a4f19364-9939-4b26-feae-5c929cce3c8f"
      },
      "outputs": [
        {
          "output_type": "display_data",
          "data": {
            "image/png": "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\n",
            "text/plain": [
              "<Figure size 432x288 with 1 Axes>"
            ]
          },
          "metadata": {
            "needs_background": "light"
          }
        },
        {
          "output_type": "stream",
          "name": "stdout",
          "text": [
            "\n"
          ]
        },
        {
          "output_type": "display_data",
          "data": {
            "image/png": "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\n",
            "text/plain": [
              "<Figure size 432x288 with 1 Axes>"
            ]
          },
          "metadata": {
            "needs_background": "light"
          }
        }
      ],
      "source": [
        "#-----------------------------------------------------------\n",
        "# Retrieve a list of list results on training and test data\n",
        "# sets for each training epoch\n",
        "#-----------------------------------------------------------\n",
        "acc=history.history['accuracy']\n",
        "val_acc=history.history['val_accuracy']\n",
        "loss=history.history['loss']\n",
        "val_loss=history.history['val_loss']\n",
        "\n",
        "epochs=range(len(acc)) # Get number of epochs\n",
        "\n",
        "#------------------------------------------------\n",
        "# Plot training and validation accuracy per epoch\n",
        "#------------------------------------------------\n",
        "plt.plot(epochs, acc, 'r', \"Training Accuracy\")\n",
        "plt.plot(epochs, val_acc, 'b', \"Validation Accuracy\")\n",
        "plt.title('Training and validation accuracy')\n",
        "plt.show()\n",
        "print(\"\")\n",
        "\n",
        "#------------------------------------------------\n",
        "# Plot training and validation loss per epoch\n",
        "#------------------------------------------------\n",
        "plt.plot(epochs, loss, 'r', \"Training Loss\")\n",
        "plt.plot(epochs, val_loss, 'b', \"Validation Loss\")\n",
        "plt.show()"
      ]
    },
    {
      "cell_type": "markdown",
      "metadata": {
        "id": "NYIaqsN2pav6"
      },
      "source": [
        "You will probably encounter that the model is overfitting, which means that it is doing a great job at classifying the images in the training set but struggles with new data. This is perfectly fine and you will learn how to mitigate this issue in the upcomming week.\n",
        "\n",
        "Before closing the assignment, be sure to also download the `history.pkl` file which contains the information of the training history of your model. You can download this file by running the cell below:"
      ]
    },
    {
      "cell_type": "code",
      "execution_count": 15,
      "metadata": {
        "id": "yWcrc9nZTsHj",
        "colab": {
          "base_uri": "https://localhost:8080/",
          "height": 17
        },
        "outputId": "38d9fb2e-bbfc-491c-b4e8-27abd969c03e"
      },
      "outputs": [
        {
          "output_type": "display_data",
          "data": {
            "application/javascript": [
              "\n",
              "    async function download(id, filename, size) {\n",
              "      if (!google.colab.kernel.accessAllowed) {\n",
              "        return;\n",
              "      }\n",
              "      const div = document.createElement('div');\n",
              "      const label = document.createElement('label');\n",
              "      label.textContent = `Downloading \"${filename}\": `;\n",
              "      div.appendChild(label);\n",
              "      const progress = document.createElement('progress');\n",
              "      progress.max = size;\n",
              "      div.appendChild(progress);\n",
              "      document.body.appendChild(div);\n",
              "\n",
              "      const buffers = [];\n",
              "      let downloaded = 0;\n",
              "\n",
              "      const channel = await google.colab.kernel.comms.open(id);\n",
              "      // Send a message to notify the kernel that we're ready.\n",
              "      channel.send({})\n",
              "\n",
              "      for await (const message of channel.messages) {\n",
              "        // Send a message to notify the kernel that we're ready.\n",
              "        channel.send({})\n",
              "        if (message.buffers) {\n",
              "          for (const buffer of message.buffers) {\n",
              "            buffers.push(buffer);\n",
              "            downloaded += buffer.byteLength;\n",
              "            progress.value = downloaded;\n",
              "          }\n",
              "        }\n",
              "      }\n",
              "      const blob = new Blob(buffers, {type: 'application/binary'});\n",
              "      const a = document.createElement('a');\n",
              "      a.href = window.URL.createObjectURL(blob);\n",
              "      a.download = filename;\n",
              "      div.appendChild(a);\n",
              "      a.click();\n",
              "      div.remove();\n",
              "    }\n",
              "  "
            ],
            "text/plain": [
              "<IPython.core.display.Javascript object>"
            ]
          },
          "metadata": {}
        },
        {
          "output_type": "display_data",
          "data": {
            "application/javascript": [
              "download(\"download_b6d38113-f268-4d93-99a5-67a208d903b5\", \"history_augmented.pkl\", 628)"
            ],
            "text/plain": [
              "<IPython.core.display.Javascript object>"
            ]
          },
          "metadata": {}
        }
      ],
      "source": [
        "def download_history():\n",
        "  import pickle\n",
        "  from google.colab import files\n",
        "\n",
        "  with open('history_augmented.pkl', 'wb') as f:\n",
        "    pickle.dump(history.history, f)\n",
        "\n",
        "  files.download('history_augmented.pkl')\n",
        "\n",
        "download_history()"
      ]
    },
    {
      "cell_type": "markdown",
      "metadata": {
        "id": "yEj7UVe0OgMq"
      },
      "source": [
        "You will also need to submit this notebook for grading. To download it, click on the `File` tab in the upper left corner of the screen then click on `Download` -> `Download .ipynb`. You can name it anything you want as long as it is a valid `.ipynb` (jupyter notebook) file."
      ]
    },
    {
      "cell_type": "markdown",
      "metadata": {
        "id": "joAaZSWWpbOI"
      },
      "source": [
        "**Congratulations on finishing this week's assignment!**\n",
        "\n",
        "You have successfully implemented a convolutional neural network that classifies images of cats and dogs, along with the helper functions needed to pre-process the images!\n",
        "\n",
        "**Keep it up!**"
      ]
    }
  ],
  "metadata": {
    "accelerator": "GPU",
    "kernelspec": {
      "display_name": "Python 3",
      "language": "python",
      "name": "python3"
    },
    "language_info": {
      "codemirror_mode": {
        "name": "ipython",
        "version": 3
      },
      "file_extension": ".py",
      "mimetype": "text/x-python",
      "name": "python",
      "nbconvert_exporter": "python",
      "pygments_lexer": "ipython3",
      "version": "3.7.4"
    },
    "colab": {
      "name": "220311_C2W2_Assignment_4th.ipynb",
      "provenance": []
    }
  },
  "nbformat": 4,
  "nbformat_minor": 0
}
